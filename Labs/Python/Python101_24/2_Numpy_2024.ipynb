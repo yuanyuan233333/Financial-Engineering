{
 "cells": [
  {
   "cell_type": "markdown",
   "metadata": {
    "id": "C2fzG881SVUD"
   },
   "source": [
    "# Numpy Basics\n",
    "__[NumPy](http://www.numpy.org/)__ is probably the most used package for scientific computing with Python.\n",
    "It is basically _\"a library for Python lists on steroids\"_.\n",
    "\n",
    "## The main entity\n",
    "\n",
    "NumPy’s main object is the homogeneous multidimensional array. It is a table of elements (usually numbers), all of the same type, indexed by a tuple of positive integers. In NumPy dimensions are called axes. NumPy’s array class is called `ndarray`. "
   ]
  },
  {
   "cell_type": "code",
   "execution_count": 1,
   "metadata": {
    "colab": {
     "base_uri": "https://localhost:8080/"
    },
    "id": "NUVeWDbISVUH",
    "outputId": "1475ee6f-e60d-4de9-c733-f2b04f9d620f"
   },
   "outputs": [
    {
     "name": "stdout",
     "output_type": "stream",
     "text": [
      "the numpy array: \n",
      " [[1 1 2]\n",
      " [3 5 8]]\n",
      "the shape (similar to matlab's size):  (2, 3)\n",
      "the number of dimensions:  2\n",
      "the number of elements:  6\n",
      "the type of the elements:  int64\n"
     ]
    }
   ],
   "source": [
    "import numpy as np\n",
    "\n",
    "myNumpyArray = np.array( [[1, 1, 2],\n",
    "                          [3, 5, 8]] )\n",
    "\n",
    "print(\"the numpy array: \\n\", myNumpyArray)\n",
    "\n",
    "print(\"the shape (similar to matlab's size): \", myNumpyArray.shape)\n",
    "\n",
    "print(\"the number of dimensions: \", myNumpyArray.ndim)\n",
    "\n",
    "print(\"the number of elements: \", myNumpyArray.size)\n",
    "\n",
    "print(\"the type of the elements: \", myNumpyArray.dtype)"
   ]
  },
  {
   "cell_type": "markdown",
   "metadata": {
    "id": "RX2-nSxNSVUJ"
   },
   "source": [
    "## Array Creation\n",
    "NumPy provides handy functions to initialize arrays."
   ]
  },
  {
   "cell_type": "code",
   "execution_count": 2,
   "metadata": {
    "colab": {
     "base_uri": "https://localhost:8080/"
    },
    "id": "KA4UQYjDSVUK",
    "outputId": "b8f46383-08b0-4a91-b9be-f21a0c2f60ef"
   },
   "outputs": [
    {
     "name": "stdout",
     "output_type": "stream",
     "text": [
      "zeros: \n",
      " [[0. 0. 0.]\n",
      " [0. 0. 0.]]\n",
      "ones: \n",
      " [[1. 1.]\n",
      " [1. 1.]\n",
      " [1. 1.]]\n",
      "arange:  [1 3 5 7 9]\n",
      "linspace:  [ 1.   5.5 10. ]\n"
     ]
    }
   ],
   "source": [
    "import numpy as np\n",
    "\n",
    "# zeros (as in Matlab)\n",
    "zeros = np.zeros((2, 3))\n",
    "print(\"zeros: \\n\", zeros)\n",
    "\n",
    "# notice the \"double\" brackets! They come from the extended declaration:\n",
    "# zeros = np.zeros(shape=(2, 3), type=float) \n",
    "\n",
    "# ones\n",
    "ones = np.ones((3, 2))\n",
    "print(\"ones: \\n\", ones)\n",
    "\n",
    "# arange\n",
    "arange = np.arange(1, 10, 2)\n",
    "print(\"arange: \", arange)\n",
    "\n",
    "# linspace\n",
    "linspace = np.linspace(1, 10, 3)\n",
    "print(\"linspace: \", linspace)"
   ]
  },
  {
   "cell_type": "markdown",
   "metadata": {
    "id": "In2G-3VaSVUL"
   },
   "source": [
    "## Operations\n",
    "In NumPy all operations on `ndarray` are element-wise operations.\n",
    "\n",
    "_Remark:_ the `ndarrays` must have the same shape!"
   ]
  },
  {
   "cell_type": "code",
   "execution_count": 3,
   "metadata": {
    "colab": {
     "base_uri": "https://localhost:8080/"
    },
    "id": "vbaod8PrSVUM",
    "outputId": "5654e4d8-c5b2-4a68-8f93-7aa65eb6ca9d"
   },
   "outputs": [
    {
     "name": "stdout",
     "output_type": "stream",
     "text": [
      "a + b:  [[ 6  8]\n",
      " [10 12]]\n",
      "a - b:  [[-4 -4]\n",
      " [-4 -4]]\n",
      "a * b:  [[ 5 12]\n",
      " [21 32]]\n",
      "a / b:  [[0.2        0.33333333]\n",
      " [0.42857143 0.5       ]]\n"
     ]
    }
   ],
   "source": [
    "import numpy as np\n",
    "\n",
    "a = np.array([[1, 2],\n",
    "              [3, 4]])\n",
    "\n",
    "b = np.array([[5, 6],\n",
    "              [7, 8]])\n",
    "\n",
    "# addition\n",
    "print(\"a + b: \", a + b)\n",
    "\n",
    "# substraction\n",
    "print(\"a - b: \", a - b)\n",
    "\n",
    "# multiplication\n",
    "print(\"a * b: \", a * b)\n",
    "\n",
    "# division\n",
    "print(\"a / b: \", a / b)"
   ]
  },
  {
   "cell_type": "markdown",
   "metadata": {
    "id": "CqZT653YSVUN"
   },
   "source": [
    "And for matrix multiplication one needs to use **.dot**."
   ]
  },
  {
   "cell_type": "code",
   "execution_count": 4,
   "metadata": {
    "colab": {
     "base_uri": "https://localhost:8080/"
    },
    "id": "HJpyW65PSVUN",
    "outputId": "ca39de18-ffff-45d4-94e3-195a4bd196c0"
   },
   "outputs": [
    {
     "name": "stdout",
     "output_type": "stream",
     "text": [
      "a.dot(b):  [[19 22]\n",
      " [43 50]]\n"
     ]
    }
   ],
   "source": [
    "# matrix multiplication\n",
    "print(\"a.dot(b): \", a.dot(b))"
   ]
  },
  {
   "cell_type": "markdown",
   "metadata": {
    "id": "6nuYC2KQSVUO"
   },
   "source": [
    "### Mathematical Operations\n",
    "NumPy provides implementations for the operations we commonly use:"
   ]
  },
  {
   "cell_type": "code",
   "execution_count": 5,
   "metadata": {
    "colab": {
     "base_uri": "https://localhost:8080/"
    },
    "id": "RIbTmQrGSVUP",
    "outputId": "9cefe935-5297-4dd5-dc54-50838dd90414"
   },
   "outputs": [
    {
     "name": "stdout",
     "output_type": "stream",
     "text": [
      "a**2:  [ 1  4  9 16]\n",
      "np.exp(a):  [ 2.71828183  7.3890561  20.08553692 54.59815003]\n",
      "np.sqrt(a):  [1.         1.41421356 1.73205081 2.        ]\n",
      "positive part of b:  [0. 0. 0. 1. 2.]\n",
      "negative part of b:  [-2. -1.  0.  0.  0.]\n"
     ]
    }
   ],
   "source": [
    "import numpy as np\n",
    "\n",
    "a = np.arange(1, 5)\n",
    "b = np.arange(-2, 3)\n",
    "\n",
    "# exponentiation\n",
    "print(\"a**2: \", a**2)\n",
    "print(\"np.exp(a): \", np.exp(a))\n",
    "\n",
    "# square root\n",
    "print(\"np.sqrt(a): \", np.sqrt(a))\n",
    "\n",
    "# positive part\n",
    "print(\"positive part of b: \", b.clip(0, np.inf))\n",
    "\n",
    "# negative part\n",
    "print(\"negative part of b: \", b.clip(-np.inf, 0))"
   ]
  },
  {
   "cell_type": "markdown",
   "metadata": {
    "id": "1jDWImXWSVUP"
   },
   "source": [
    "### Reduction Operations\n",
    "NumPy also provides implementations for the usual reduction operations:"
   ]
  },
  {
   "cell_type": "code",
   "execution_count": 6,
   "metadata": {
    "colab": {
     "base_uri": "https://localhost:8080/"
    },
    "id": "6tgaiGinSVUP",
    "outputId": "193dc44b-076d-41c1-ffbb-ea2afdfe9a8d"
   },
   "outputs": [
    {
     "name": "stdout",
     "output_type": "stream",
     "text": [
      "sum:  10\n",
      "sum:  10\n",
      "mean:  2.5\n",
      "mean:  2.5\n",
      "standard deviation:  1.118033988749895\n",
      "standard deviation:  1.2909944487358056\n",
      "max:  4\n",
      "min:  1\n"
     ]
    }
   ],
   "source": [
    "import numpy as np\n",
    "\n",
    "a = np.arange(1, 5)\n",
    "\n",
    "# sum\n",
    "print(\"sum: \", a.sum())\n",
    "print(\"sum: \", np.sum(a))\n",
    "\n",
    "# mean\n",
    "print(\"mean: \", a.mean())\n",
    "print(\"mean: \", np.mean(a))\n",
    "\n",
    "# standard deviation\n",
    "print(\"standard deviation: \", a.std())\n",
    "print(\"standard deviation: \", np.std(a, ddof = 1)) # denominator is N - ddof\n",
    "\n",
    "# max/min\n",
    "print(\"max: \", a.max())\n",
    "print(\"min: \", np.min(a))\n",
    "\n",
    "?a.std"
   ]
  },
  {
   "cell_type": "markdown",
   "metadata": {
    "id": "hppq8buJSVUQ"
   },
   "source": [
    "### Shape Manipulation Operations\n",
    "NumPy provides as well handy operations to play with the shape of an array:"
   ]
  },
  {
   "cell_type": "code",
   "execution_count": 7,
   "metadata": {
    "colab": {
     "base_uri": "https://localhost:8080/"
    },
    "id": "rWeilXE_SVUQ",
    "outputId": "0675d37b-0050-4184-9b31-aa1ff3d2809a"
   },
   "outputs": [
    {
     "name": "stdout",
     "output_type": "stream",
     "text": [
      "a transposed:  [[1 4]\n",
      " [2 5]\n",
      " [3 6]]\n",
      "a transposed shape:  (3, 2)\n",
      "a flattened:  [1 2 3 4 5 6]\n",
      "a reshaped to (3,2):  [[1 2]\n",
      " [3 4]\n",
      " [5 6]]\n"
     ]
    }
   ],
   "source": [
    "import numpy as np\n",
    "\n",
    "a = np.array([[1, 2, 3],\n",
    "              [4, 5, 6]])\n",
    "\n",
    "# transpose\n",
    "print(\"a transposed: \", a.T)\n",
    "print(\"a transposed shape: \", a.T.shape)\n",
    "\n",
    "# flatten\n",
    "print(\"a flattened: \", a.ravel())\n",
    "\n",
    "# reshape\n",
    "print(\"a reshaped to (3,2): \", a.reshape(3,2))"
   ]
  },
  {
   "cell_type": "markdown",
   "metadata": {
    "id": "0SWYpIsBSVUR"
   },
   "source": [
    "## Random Number Generator\n",
    "NumPy offers different functions for random sampling in its **random** module."
   ]
  },
  {
   "cell_type": "code",
   "execution_count": 8,
   "metadata": {
    "colab": {
     "base_uri": "https://localhost:8080/"
    },
    "id": "rYXT8P4wSVUR",
    "outputId": "4c6a29d9-c9aa-45f4-bf33-b0ff1f1a531d"
   },
   "outputs": [
    {
     "name": "stdout",
     "output_type": "stream",
     "text": [
      "uniform in [0,1]:  [[0.90389947]\n",
      " [0.47619225]]\n"
     ]
    }
   ],
   "source": [
    "import numpy as np\n",
    "\n",
    "# uniform in [0,1)\n",
    "print(\"uniform in [0,1]: \", np.random.rand(2,1))"
   ]
  },
  {
   "cell_type": "code",
   "execution_count": 9,
   "metadata": {
    "colab": {
     "base_uri": "https://localhost:8080/"
    },
    "id": "8wQ1owgzSVUS",
    "outputId": "c59e71ed-2b8a-4e6f-a35f-47e133261f2f"
   },
   "outputs": [
    {
     "name": "stdout",
     "output_type": "stream",
     "text": [
      "standard normal:  [[-0.68395712]\n",
      " [-0.92970243]]\n"
     ]
    }
   ],
   "source": [
    "import numpy as np\n",
    "\n",
    "# standard normal\n",
    "print(\"standard normal: \", np.random.randn(2,1))"
   ]
  },
  {
   "cell_type": "code",
   "execution_count": 10,
   "metadata": {
    "colab": {
     "base_uri": "https://localhost:8080/"
    },
    "id": "680OAZoQSVUS",
    "outputId": "864b7cd9-8889-472b-e5f0-5698b8087608"
   },
   "outputs": [
    {
     "name": "stdout",
     "output_type": "stream",
     "text": [
      "discrete uniform:  [[1]\n",
      " [3]]\n"
     ]
    }
   ],
   "source": [
    "import numpy as np\n",
    "\n",
    "# discrete uniform\n",
    "print(\"discrete uniform: \", np.random.randint(-1, 5, (2,1)))"
   ]
  },
  {
   "cell_type": "markdown",
   "metadata": {
    "id": "3wlLi7kASVUS"
   },
   "source": [
    "It provides as well sampling from many of the usual distributions:"
   ]
  },
  {
   "cell_type": "code",
   "execution_count": 11,
   "metadata": {
    "colab": {
     "base_uri": "https://localhost:8080/"
    },
    "id": "HS9vSCYiSVUS",
    "outputId": "b5b42af8-829a-45d0-9d46-46c99edcd9e5"
   },
   "outputs": [
    {
     "name": "stdout",
     "output_type": "stream",
     "text": [
      "binomial:  0\n",
      "exponential:  0.20358625016837273\n",
      "poisson:  2\n"
     ]
    }
   ],
   "source": [
    "import numpy as np\n",
    "\n",
    "# binomial\n",
    "print(\"binomial: \", np.random.binomial(2, 0.5))\n",
    "\n",
    "# exponential\n",
    "lambda_parameter = 2\n",
    "print(\"exponential: \", np.random.exponential(1/lambda_parameter))\n",
    "\n",
    "# poisson\n",
    "print(\"poisson: \", np.random.poisson(lambda_parameter))"
   ]
  },
  {
   "cell_type": "markdown",
   "metadata": {
    "id": "_ZeXgvLeSVUT"
   },
   "source": [
    "## Other Resources\n",
    "* __[NumPy Reference Guide](https://docs.scipy.org/doc/numpy/reference/index.html)__\n",
    "* __[SciPy Reference Guide](https://docs.scipy.org/doc/scipy/reference/)__. It's an open source library, from the same ecosystem as NumPy, that contains more advanced algorithms. For example it provides routines for numerical integration and optimization."
   ]
  }
 ],
 "metadata": {
  "colab": {
   "provenance": []
  },
  "kernelspec": {
   "display_name": "Python 3 (ipykernel)",
   "language": "python",
   "name": "python3"
  },
  "language_info": {
   "codemirror_mode": {
    "name": "ipython",
    "version": 3
   },
   "file_extension": ".py",
   "mimetype": "text/x-python",
   "name": "python",
   "nbconvert_exporter": "python",
   "pygments_lexer": "ipython3",
   "version": "3.8.9"
  }
 },
 "nbformat": 4,
 "nbformat_minor": 1
}
