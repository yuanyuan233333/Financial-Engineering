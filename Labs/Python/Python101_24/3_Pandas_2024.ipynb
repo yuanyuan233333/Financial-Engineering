{
 "cells": [
  {
   "cell_type": "markdown",
   "metadata": {
    "id": "bnzSGcu5cFMk"
   },
   "source": [
    "# pandas Basics\n",
    "__[**pandas**](https://pandas.pydata.org/)__ is a library providing fast, flexible, and expressive data structures for data analysis in Python.\n",
    "\n",
    "## Main Features\n",
    "* pandas has two primary data structures, Series (1-dimensional) and DataFrame (2-dimensional). \n",
    "* For R users, DataFrame provides everything that R’s data.frame provides and much more. \n",
    "* pandas is built on top of NumPy and is intended to integrate well within a scientific computing environment with many other 3rd party libraries\n",
    "* Robust IO tools for loading data from flat files (CSV and delimited), Excel files, databases, and saving / loading data from the ultrafast HDF5 format"
   ]
  },
  {
   "cell_type": "markdown",
   "metadata": {
    "id": "eKT2mIN9cFMo"
   },
   "source": [
    "## Read Data\n",
    "It's very easy to read data from excel files:"
   ]
  },
  {
   "cell_type": "raw",
   "metadata": {
    "colab": {
     "base_uri": "https://localhost:8080/"
    },
    "id": "4K-8SzdTfGMj",
    "outputId": "823c2f8a-d929-4f9d-ad2d-1e222d175c15"
   },
   "source": [
    "###### IMPORTATION of EXCEL FILES ######\n",
    "# install missing package\n",
    "!pip install xlrd\n",
    "!pip install --upgrade xlrd\n",
    "\n",
    "# importing xlrd\n",
    "import xlrd\n",
    "print(xlrd.__version__)\n",
    "\n",
    "# to import excel\n",
    "deposits = pd.read_excel('MktData_CurveBootstrap.xls', index_col = 0, skiprows = 9, usecols = 'D:F')\n",
    "deposits = deposits[:6]\n",
    "deposits.index = pd.to_datetime(deposits.index)\n",
    "\n",
    "print(deposits)"
   ]
  },
  {
   "cell_type": "code",
   "execution_count": 1,
   "metadata": {
    "colab": {
     "base_uri": "https://localhost:8080/"
    },
    "id": "su2KlxWUcFMp",
    "outputId": "a215103c-bd97-4a61-dbff-a21d545f8ce2"
   },
   "outputs": [
    {
     "name": "stdout",
     "output_type": "stream",
     "text": [
      "               BID     ASK\n",
      "Depos                     \n",
      "2008-02-20  3.9900  4.0300\n",
      "2008-02-26  4.0500  4.0900\n",
      "2008-03-19  4.1300  4.1800\n",
      "2008-04-21  4.2100  4.2700\n",
      "2008-05-19  4.3000  4.3600\n",
      "2008-08-19  4.2900  4.3500\n"
     ]
    }
   ],
   "source": [
    "###### IMPORTATION of CSV FILES ######\n",
    "import numpy as np\n",
    "import pandas as pd\n",
    "\n",
    "deposits = pd.read_csv('MktData_CurveBootstrap.csv', index_col=0, skiprows = 9, usecols = np.arange(3,6))\n",
    "deposits = deposits[:6]\n",
    "deposits.index = pd.to_datetime(deposits.index)\n",
    "\n",
    "print(deposits)"
   ]
  },
  {
   "cell_type": "code",
   "execution_count": 2,
   "metadata": {
    "colab": {
     "base_uri": "https://localhost:8080/"
    },
    "id": "7awgDkgvcFMr",
    "outputId": "427e2492-ab53-4be6-d6a5-246d86651c7e"
   },
   "outputs": [
    {
     "name": "stdout",
     "output_type": "stream",
     "text": [
      "<class 'pandas.core.frame.DataFrame'>\n"
     ]
    }
   ],
   "source": [
    "# the result is a DataFrame\n",
    "print(type(deposits))"
   ]
  },
  {
   "cell_type": "code",
   "execution_count": 3,
   "metadata": {
    "colab": {
     "base_uri": "https://localhost:8080/"
    },
    "id": "mm1xZe3hcFMs",
    "outputId": "bc8f83a4-b9c3-427e-cdd9-3640f3ec0284"
   },
   "outputs": [
    {
     "name": "stdout",
     "output_type": "stream",
     "text": [
      "(6, 2)\n"
     ]
    }
   ],
   "source": [
    "# the first column is used as label for the rows\n",
    "print(deposits.shape)"
   ]
  },
  {
   "cell_type": "code",
   "execution_count": 4,
   "metadata": {
    "colab": {
     "base_uri": "https://localhost:8080/"
    },
    "id": "Wu1tzalZcFMs",
    "outputId": "fc9f8a63-58e3-4f37-de4a-1d690c469c97"
   },
   "outputs": [
    {
     "name": "stdout",
     "output_type": "stream",
     "text": [
      "[DatetimeIndex(['2008-02-20', '2008-02-26', '2008-03-19', '2008-04-21',\n",
      "               '2008-05-19', '2008-08-19'],\n",
      "              dtype='datetime64[ns]', name='Depos', freq=None), Index(['BID', 'ASK'], dtype='object')]\n"
     ]
    }
   ],
   "source": [
    "# the axes of the DataFrame are the row labels and the column labels\n",
    "print(deposits.axes)"
   ]
  },
  {
   "cell_type": "code",
   "execution_count": 5,
   "metadata": {
    "colab": {
     "base_uri": "https://localhost:8080/"
    },
    "id": "6DL_JyNZcFMt",
    "outputId": "3a1a462a-5294-4ac3-91a6-fd2da50273f6"
   },
   "outputs": [
    {
     "name": "stdout",
     "output_type": "stream",
     "text": [
      "[Timestamp('2008-02-20 00:00:00'), Timestamp('2008-02-26 00:00:00'), Timestamp('2008-03-19 00:00:00'), Timestamp('2008-04-21 00:00:00'), Timestamp('2008-05-19 00:00:00'), Timestamp('2008-08-19 00:00:00')]\n",
      "<built-in method index of list object at 0x127a77b40>\n"
     ]
    }
   ],
   "source": [
    "# we can access the dates by using the axes attribute\n",
    "dates = deposits.axes[0].tolist()\n",
    "\n",
    "print(dates)\n",
    "print(dates.index)"
   ]
  },
  {
   "cell_type": "markdown",
   "metadata": {
    "id": "Z_WaYOFgcFMu"
   },
   "source": [
    "## Access Data\n",
    "There are many ways to access the data in a DataFrame, we'll see only some of them."
   ]
  },
  {
   "cell_type": "markdown",
   "metadata": {
    "id": "Bk21u3epcFMv"
   },
   "source": [
    "### Select a single column"
   ]
  },
  {
   "cell_type": "code",
   "execution_count": 6,
   "metadata": {
    "colab": {
     "base_uri": "https://localhost:8080/"
    },
    "id": "9e0XBNTecFMv",
    "outputId": "d09ef48f-4a19-47cf-cb62-997b2a5421fe"
   },
   "outputs": [
    {
     "name": "stdout",
     "output_type": "stream",
     "text": [
      "Depos\n",
      "2008-02-20    3.9900\n",
      "2008-02-26    4.0500\n",
      "2008-03-19    4.1300\n",
      "2008-04-21    4.2100\n",
      "2008-05-19    4.3000\n",
      "2008-08-19    4.2900\n",
      "Name: BID, dtype: object\n"
     ]
    }
   ],
   "source": [
    "bids = deposits['BID']\n",
    "print(bids)"
   ]
  },
  {
   "cell_type": "code",
   "execution_count": 7,
   "metadata": {
    "colab": {
     "base_uri": "https://localhost:8080/"
    },
    "id": "c7KQf_86cFMw",
    "outputId": "f087e306-66de-4c44-c1f6-86fb627972dd"
   },
   "outputs": [
    {
     "name": "stdout",
     "output_type": "stream",
     "text": [
      "<class 'pandas.core.series.Series'>\n"
     ]
    }
   ],
   "source": [
    "print(type(bids))"
   ]
  },
  {
   "cell_type": "markdown",
   "metadata": {
    "id": "O25XmcxycFMw"
   },
   "source": [
    "### Select some rows (slicing)"
   ]
  },
  {
   "cell_type": "code",
   "execution_count": 8,
   "metadata": {
    "colab": {
     "base_uri": "https://localhost:8080/"
    },
    "id": "gdkpQFlZcFMx",
    "outputId": "91ca4d42-0714-4f50-bfe0-8ab02f5611be"
   },
   "outputs": [
    {
     "name": "stdout",
     "output_type": "stream",
     "text": [
      "               BID     ASK\n",
      "Depos                     \n",
      "2008-04-21  4.2100  4.2700\n",
      "2008-05-19  4.3000  4.3600\n",
      "2008-08-19  4.2900  4.3500\n"
     ]
    }
   ],
   "source": [
    "print(deposits[3:])"
   ]
  },
  {
   "cell_type": "markdown",
   "metadata": {
    "id": "p9A3a3RrcFMx"
   },
   "source": [
    "### Select by Labels\n",
    "There is an ad-hoc method for selecting the data by label: **loc**."
   ]
  },
  {
   "cell_type": "code",
   "execution_count": 9,
   "metadata": {
    "colab": {
     "base_uri": "https://localhost:8080/"
    },
    "id": "PqiirWItcFMx",
    "outputId": "cb1e037b-0ff5-4916-9ae3-c9628f94f1f0"
   },
   "outputs": [
    {
     "name": "stdout",
     "output_type": "stream",
     "text": [
      "               ASK     BID\n",
      "Depos                     \n",
      "2008-02-20  4.0300  3.9900\n",
      "2008-02-26  4.0900  4.0500\n",
      "2008-03-19  4.1800  4.1300\n",
      "2008-04-21  4.2700  4.2100\n",
      "2008-05-19  4.3600  4.3000\n",
      "2008-08-19  4.3500  4.2900\n"
     ]
    }
   ],
   "source": [
    "# select specific columns by label\n",
    "print(deposits.loc[:,['ASK', 'BID']])"
   ]
  },
  {
   "cell_type": "code",
   "execution_count": 10,
   "metadata": {
    "colab": {
     "base_uri": "https://localhost:8080/"
    },
    "id": "r410H04wcFMy",
    "outputId": "0bb9b4de-e649-4be8-b1be-e4e54b0bc944"
   },
   "outputs": [
    {
     "name": "stdout",
     "output_type": "stream",
     "text": [
      "<class 'pandas.core.frame.DataFrame'>\n"
     ]
    }
   ],
   "source": [
    "print(type(deposits.loc[:,['ASK', 'BID']]))"
   ]
  },
  {
   "cell_type": "code",
   "execution_count": 11,
   "metadata": {
    "colab": {
     "base_uri": "https://localhost:8080/"
    },
    "id": "ZNCaSPu1cFMy",
    "outputId": "7506295c-7731-4167-d008-322bdab669e4"
   },
   "outputs": [
    {
     "name": "stdout",
     "output_type": "stream",
     "text": [
      "4.0300\n"
     ]
    }
   ],
   "source": [
    "# select specific value\n",
    "print(deposits.loc[dates[0], 'ASK'])"
   ]
  },
  {
   "cell_type": "code",
   "execution_count": 12,
   "metadata": {
    "colab": {
     "base_uri": "https://localhost:8080/"
    },
    "id": "qeD71xwgcFMz",
    "outputId": "2a8cc6bf-f740-4b01-e8fe-20d2b09bbd50"
   },
   "outputs": [
    {
     "name": "stdout",
     "output_type": "stream",
     "text": [
      "<class 'str'>\n"
     ]
    }
   ],
   "source": [
    "print(type(deposits.loc[dates[0], 'ASK']))"
   ]
  },
  {
   "cell_type": "markdown",
   "metadata": {
    "id": "B9ylG9ghcFMz"
   },
   "source": [
    "### Select by Position\n",
    "There is an ad-hoc method for selecting the data by position: **iloc**."
   ]
  },
  {
   "cell_type": "code",
   "execution_count": 13,
   "metadata": {
    "colab": {
     "base_uri": "https://localhost:8080/"
    },
    "id": "RsVVHpX2cFMz",
    "outputId": "e47aa5b3-eee9-41d1-e8ea-78ecf1093f74"
   },
   "outputs": [
    {
     "name": "stdout",
     "output_type": "stream",
     "text": [
      "BID    4.2100\n",
      "ASK    4.2700\n",
      "Name: 2008-04-21 00:00:00, dtype: object\n"
     ]
    }
   ],
   "source": [
    "# select single row\n",
    "print(deposits.iloc[3])"
   ]
  },
  {
   "cell_type": "code",
   "execution_count": 14,
   "metadata": {
    "colab": {
     "base_uri": "https://localhost:8080/"
    },
    "id": "rM6ZHzzncFMz",
    "outputId": "ba9cad19-8fd1-4fa3-c4c9-6f8c46223b22"
   },
   "outputs": [
    {
     "name": "stdout",
     "output_type": "stream",
     "text": [
      "<class 'pandas.core.series.Series'>\n"
     ]
    }
   ],
   "source": [
    "print(type(deposits.iloc[3]))"
   ]
  },
  {
   "cell_type": "code",
   "execution_count": 15,
   "metadata": {
    "colab": {
     "base_uri": "https://localhost:8080/"
    },
    "id": "o3HaTOnncFM0",
    "outputId": "97f8e8a1-0b8d-4f38-d288-f4fdc74cb512",
    "scrolled": true
   },
   "outputs": [
    {
     "name": "stdout",
     "output_type": "stream",
     "text": [
      "               ASK\n",
      "Depos             \n",
      "2008-04-21  4.2700\n",
      "2008-05-19  4.3600\n"
     ]
    }
   ],
   "source": [
    "# slicing\n",
    "print(deposits.iloc[3:5, 1:])"
   ]
  },
  {
   "cell_type": "code",
   "execution_count": 16,
   "metadata": {
    "colab": {
     "base_uri": "https://localhost:8080/"
    },
    "id": "8mkq1K76cFM0",
    "outputId": "39e1e5cc-cbe1-4dd4-9b40-1c875d98cdac"
   },
   "outputs": [
    {
     "name": "stdout",
     "output_type": "stream",
     "text": [
      "<class 'pandas.core.frame.DataFrame'>\n"
     ]
    }
   ],
   "source": [
    "print(type(deposits.iloc[3:5, 1:]))"
   ]
  },
  {
   "cell_type": "code",
   "execution_count": 17,
   "metadata": {
    "colab": {
     "base_uri": "https://localhost:8080/"
    },
    "id": "goyQSORIcFM0",
    "outputId": "630d55e8-c473-43ef-d515-6c8d02bf8126"
   },
   "outputs": [
    {
     "name": "stdout",
     "output_type": "stream",
     "text": [
      "4.0900\n"
     ]
    }
   ],
   "source": [
    "# select specific value\n",
    "print(deposits.iloc[1, 1])"
   ]
  },
  {
   "cell_type": "markdown",
   "metadata": {
    "id": "g9B5Vu6aiCyP"
   },
   "source": [
    "#Warning: aliasing"
   ]
  },
  {
   "cell_type": "code",
   "execution_count": 18,
   "metadata": {
    "id": "AcB8U3kfgZNj"
   },
   "outputs": [],
   "source": [
    "# Extracting a time series\n",
    "ts_ask = deposits[\"ASK\"]"
   ]
  },
  {
   "cell_type": "code",
   "execution_count": 19,
   "metadata": {
    "colab": {
     "base_uri": "https://localhost:8080/"
    },
    "id": "GS6G4caViVjl",
    "outputId": "6c9be4dc-be52-446a-e22f-1ccd1f58e279"
   },
   "outputs": [
    {
     "name": "stdout",
     "output_type": "stream",
     "text": [
      "Depos\n",
      "2008-02-20      4.44\n",
      "2008-02-26    4.0900\n",
      "2008-03-19    4.1800\n",
      "2008-04-21    4.2700\n",
      "2008-05-19    4.3600\n",
      "2008-08-19    4.3500\n",
      "Name: ASK, dtype: object\n",
      "               BID     ASK\n",
      "Depos                     \n",
      "2008-02-20  3.9900    4.44\n",
      "2008-02-26  4.0500  4.0900\n",
      "2008-03-19  4.1300  4.1800\n",
      "2008-04-21  4.2100  4.2700\n",
      "2008-05-19  4.3000  4.3600\n",
      "2008-08-19  4.2900  4.3500\n"
     ]
    }
   ],
   "source": [
    "# Modifying a value\n",
    "ts_ask[0] = 4.44\n",
    "\n",
    "print(ts_ask)\n",
    "print(deposits)"
   ]
  },
  {
   "cell_type": "code",
   "execution_count": 20,
   "metadata": {
    "id": "9aeMzslBinnx"
   },
   "outputs": [],
   "source": [
    "# Creating a copy of the time series\n",
    "ts_ask = deposits[\"ASK\"].copy()\n",
    "ts_bid = deposits[\"ASK\"].copy()"
   ]
  },
  {
   "cell_type": "markdown",
   "metadata": {
    "id": "x3Urs_mYgIqJ"
   },
   "source": [
    "# How to make plots? Matplotlib"
   ]
  },
  {
   "cell_type": "code",
   "execution_count": 21,
   "metadata": {
    "colab": {
     "base_uri": "https://localhost:8080/",
     "height": 265
    },
    "id": "cqpJgpbKgHIB",
    "outputId": "d04a377e-7740-4875-f051-924c15c9b0b9"
   },
   "outputs": [
    {
     "data": {
      "image/png": "[encoded data removed]",
      "text/plain": [
       "<Figure size 432x288 with 1 Axes>"
      ]
     },
     "metadata": {
      "needs_background": "light"
     },
     "output_type": "display_data"
    }
   ],
   "source": [
    "import matplotlib.pyplot as plt\n",
    "\n",
    "plt.figure()\n",
    "plt.plot(ts_ask, color=\"blue\")\n",
    "plt.plot(ts_bid, color=\"red\")\n",
    "plt.show()\n"
   ]
  },
  {
   "cell_type": "markdown",
   "metadata": {
    "id": "Rwkpdd1DcFM0"
   },
   "source": [
    "## Other Resources\n",
    "* __[pandas Official Documentation](http://pandas.pydata.org/pandas-docs/stable/)__\n",
    "* __[matplotlib Official Documentation](https://matplotlib.org/3.5.1/)__\n",
    "* __[scipy Official Documentation](https://docs.scipy.org/doc/scipy/)__"
   ]
  }
 ],
 "metadata": {
  "colab": {
   "provenance": []
  },
  "kernelspec": {
   "display_name": "Python 3 (ipykernel)",
   "language": "python",
   "name": "python3"
  },
  "language_info": {
   "codemirror_mode": {
    "name": "ipython",
    "version": 3
   },
   "file_extension": ".py",
   "mimetype": "text/x-python",
   "name": "python",
   "nbconvert_exporter": "python",
   "pygments_lexer": "ipython3",
   "version": "3.8.9"
  }
 },
 "nbformat": 4,
 "nbformat_minor": 1
}
