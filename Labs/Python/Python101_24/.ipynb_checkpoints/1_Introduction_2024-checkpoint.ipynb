{
 "cells": [
  {
   "cell_type": "markdown",
   "metadata": {
    "id": "erQaXhWhvJ_9"
   },
   "source": [
    "# The Language\n",
    "\n",
    "## Intro\n",
    "__[Python](https://www.python.org/)__ is an **interpreted** high-level programming language for general-purpose programming. Python features a **dynamic type system** and **automatic memory management**, just like Matlab. \n",
    "- Interpreted: the main implementation *compiles* to bytecode and then a VM executes the bytecode.\n",
    "- Dynamic type system (i.e. \"duck typing\") means that object's suitability is determined by the presence of certain methods and properties accessed during run-time, rather than the type of the object itself. You do not need to specify variables' types!\n",
    "-Automatic memory management (i.e. garbage collector) unburdens the programmer of all the objects deallocation from memory system. Therefore, when a value in memory is no longer referenced by a variable, Python automatically removes it from memory freeing the portions of RAM no longer used by the program.</li>\n",
    "- It is multiplatform and portable on different OS. It has both a large and comprehensive standard library and a 3<sup>rd </sup>-party one developed and shared by the Python community (see [PyPI](https://pypi.org/)).\n",
    "\n",
    "### More features\n",
    "- It offers a both script and <u>interactive</u> mode. **Script mode** allows *.py* files to be run by Python interpreter. **Interactive mode** is a command line shell which gives immediate feedback for each statement (*.ipynb* files, see [Jupyter Notebooks](https://jupyter.org/)).\n",
    "- It is object-oriented: it supports classes, objects, methods, attributes, inheritance...\n",
    "- It is strongly typed: no `3 + \"four\" + 5`! No behing-the-scenes conversions.\n",
    "- Indentation is syntax (!).\n",
    "\n",
    "# Using Python on your computer\n",
    "\n",
    "### Environments\n",
    "Virtual environments are self-contained Python interpreters in which you can install packages without messing with system packages.\n",
    "\n",
    "Give a look at [venv](https://docs.python.org/3/library/venv.html).\n",
    "\n",
    "### Packages' management\n",
    "![python](https://imgs.xkcd.com/comics/python_environment.png)\n",
    "\n",
    "- [pip](https://pip.pypa.io/en/stable/#pip): package installer for Python. *You can use it to install packages from the Python Package Index and other indexes;*\n",
    "- [conda](https://docs.conda.io/en/latest/): *Package, dependency and environment management for any language—Python, R, Ruby, Lua, Scala, Java, JavaScript, C/ C++, FORTRAN, and more.*\n"
   ]
  },
  {
   "cell_type": "markdown",
   "metadata": {
    "id": "3AwBe45K_WSd"
   },
   "source": [
    "# Syntax"
   ]
  },
  {
   "cell_type": "code",
   "execution_count": 1,
   "metadata": {
    "colab": {
     "base_uri": "https://localhost:8080/"
    },
    "id": "Xs52NiLvNheq",
    "outputId": "bf7a015f-9da7-47e1-aed1-f5cddd3ebf1f"
   },
   "outputs": [
    {
     "data": {
      "text/plain": [
       "3.1416"
      ]
     },
     "execution_count": 1,
     "metadata": {},
     "output_type": "execute_result"
    }
   ],
   "source": [
    "pi = 3.1416 \n",
    "pi"
   ]
  },
  {
   "cell_type": "markdown",
   "metadata": {
    "id": "zEQQ_Ya5Nhes"
   },
   "source": [
    "Multiple assignment (also called unpacking) allows you to act on multiple variables directly on the same code line."
   ]
  },
  {
   "cell_type": "code",
   "execution_count": 2,
   "metadata": {
    "colab": {
     "base_uri": "https://localhost:8080/"
    },
    "id": "IzSm06gyNhes",
    "outputId": "d84b9fdb-5185-406c-85a1-e6ca1f9cca68"
   },
   "outputs": [
    {
     "name": "stdout",
     "output_type": "stream",
     "text": [
      "1 2 blabla 3\n"
     ]
    }
   ],
   "source": [
    "a, b, c, d = 1, 2, 'blabla', 3\n",
    "print(a, b, c, d)"
   ]
  },
  {
   "cell_type": "markdown",
   "metadata": {
    "id": "NApycWAVNhet"
   },
   "source": [
    "**Indentation** is important in Python. For example, there is no *end* keyword to indicate the closing of an **if** clause. It's all based on indentation."
   ]
  },
  {
   "cell_type": "code",
   "execution_count": 3,
   "metadata": {
    "colab": {
     "base_uri": "https://localhost:8080/"
    },
    "id": "iJjH4QV-Nhet",
    "outputId": "ee414d71-30ef-426a-ac83-b2e25f14b0b5"
   },
   "outputs": [
    {
     "name": "stdout",
     "output_type": "stream",
     "text": [
      "value is 1\n"
     ]
    }
   ],
   "source": [
    "value = 0\n",
    "shouldAddOneExactlyTwice = False\n",
    "\n",
    "if shouldAddOneExactlyTwice:\n",
    "    value += 1\n",
    "value += 1\n",
    "\n",
    "print('value is %d' % value)"
   ]
  },
  {
   "cell_type": "markdown",
   "metadata": {
    "id": "UNWXD3qwPzmv"
   },
   "source": [
    "Looping: the use **while** clause is straightforward."
   ]
  },
  {
   "cell_type": "code",
   "execution_count": 4,
   "metadata": {
    "colab": {
     "base_uri": "https://localhost:8080/"
    },
    "id": "Kns3EBIzT890",
    "outputId": "7e2b5c06-e989-46ee-a35e-f97232eaa171"
   },
   "outputs": [
    {
     "name": "stdout",
     "output_type": "stream",
     "text": [
      "0\n",
      "1\n",
      "2\n",
      "3\n",
      "4\n"
     ]
    }
   ],
   "source": [
    "counter = 0\n",
    "while counter < 5:\n",
    "    print(counter)\n",
    "    counter += 1"
   ]
  },
  {
   "cell_type": "code",
   "execution_count": 5,
   "metadata": {
    "colab": {
     "base_uri": "https://localhost:8080/"
    },
    "id": "QKPAzSlYPhzH",
    "outputId": "a9b49191-29d3-4cee-adbf-a85f14b86a9a"
   },
   "outputs": [
    {
     "name": "stdout",
     "output_type": "stream",
     "text": [
      "Try\n"
     ]
    }
   ],
   "source": [
    "# Exercise: summing the first N natural numbers with a while loop\n",
    "\n",
    "print(\"Try\")"
   ]
  },
  {
   "cell_type": "markdown",
   "metadata": {
    "id": "4t8pVTEdTLf7"
   },
   "source": [
    "When dealing with numbers, **for** loops usually require the use of a built-in method, which is called *range()*"
   ]
  },
  {
   "cell_type": "code",
   "execution_count": 6,
   "metadata": {
    "colab": {
     "base_uri": "https://localhost:8080/"
    },
    "id": "1a7b7u-fTTxA",
    "outputId": "d95e74a0-f1db-4298-e516-b40cc72cbd77"
   },
   "outputs": [
    {
     "name": "stdout",
     "output_type": "stream",
     "text": [
      "0\n",
      "1\n",
      "2\n",
      "3\n",
      "4\n"
     ]
    }
   ],
   "source": [
    "for counter in range(5):\n",
    "    print(counter)"
   ]
  },
  {
   "cell_type": "code",
   "execution_count": 7,
   "metadata": {
    "colab": {
     "base_uri": "https://localhost:8080/"
    },
    "id": "CacvLxWzUX7U",
    "outputId": "3f836b84-5857-423b-9248-24eb120e1fb5"
   },
   "outputs": [
    {
     "name": "stdout",
     "output_type": "stream",
     "text": [
      "Try\n"
     ]
    }
   ],
   "source": [
    "# Exercise: summing the first N natural numbers with a for loop\n",
    "\n",
    "print(\"Try\")"
   ]
  },
  {
   "cell_type": "markdown",
   "metadata": {
    "id": "ZUG14mXDNheu"
   },
   "source": [
    "Functions are easy to define. Indentation is important in this case as well."
   ]
  },
  {
   "cell_type": "code",
   "execution_count": 8,
   "metadata": {
    "colab": {
     "base_uri": "https://localhost:8080/"
    },
    "id": "JiJ_EiNDNhev",
    "outputId": "293f83e5-1da0-4d99-bc9b-b41884dd57dc"
   },
   "outputs": [
    {
     "name": "stdout",
     "output_type": "stream",
     "text": [
      "call payoff: 5.000000\n",
      "put payoff: -5.000000\n"
     ]
    }
   ],
   "source": [
    "# calculates the payoff of a european option\n",
    "def payoff(price, strike, flag):\n",
    "    if flag == 1:\n",
    "        return price - strike\n",
    "    else:\n",
    "        return strike - price\n",
    "\n",
    "price = 105\n",
    "strike = 100\n",
    "print('call payoff: %f' % payoff(price, strike, 1))\n",
    "print('put payoff: %f' % payoff(price, strike, -1))"
   ]
  },
  {
   "cell_type": "markdown",
   "metadata": {
    "id": "2-7AWv1eNhew"
   },
   "source": [
    "## Sequence Types\n",
    "Besides the usual built-in types like **bool**, **int**, **float**, etc. Python has what are called **Sequence Types** which allow you to store a collection of elements. We will see **lists**, **tuples** and **str**."
   ]
  },
  {
   "cell_type": "markdown",
   "metadata": {
    "id": "ocOmXhchNhew"
   },
   "source": [
    "### Lists\n",
    "Lists are **mutable** sequences used to store a collection of **homogeneous** elements."
   ]
  },
  {
   "cell_type": "code",
   "execution_count": 9,
   "metadata": {
    "colab": {
     "base_uri": "https://localhost:8080/"
    },
    "id": "tJ6rg0HdNhex",
    "outputId": "b7c0ce2d-aff2-42f5-937c-b994c42f4051"
   },
   "outputs": [
    {
     "name": "stdout",
     "output_type": "stream",
     "text": [
      "strikes before:  [0.92, 0.95, 1, 1.05, 1.1]\n",
      "strikes after:  [0.8, 0.95, 1, 1.05, 1.1]\n",
      "strikes appended:  [0.8, 0.95, 1, 1.05, 1.1, 1.2]\n",
      "strikes inserted:  [0.8, 0.9, 0.95, 1, 1.05, 1.1, 1.2]\n",
      "strikes cleared:  []\n"
     ]
    }
   ],
   "source": [
    "strikes = [0.92, 0.95, 1, 1.05, 1.1]\n",
    "print('strikes before: ', strikes)\n",
    "\n",
    "# lists are mutable\n",
    "strikes[0] = 0.8\n",
    "print('strikes after: ', strikes)\n",
    "\n",
    "# they provide some operations allowed for mutable objects\n",
    "strikes.append(1.2)\n",
    "print('strikes appended: ', strikes)\n",
    "\n",
    "strikes.insert(1,0.9) # signature: [list].insert(where, what)\n",
    "print('strikes inserted: ', strikes)\n",
    "\n",
    "strikes.clear()\n",
    "print('strikes cleared: ', strikes)"
   ]
  },
  {
   "cell_type": "markdown",
   "metadata": {
    "id": "DqKVV-f8Nhex"
   },
   "source": [
    "### Tuples\n",
    "Tuples are **immutable** sequences used to store a collection of **heterogeneous** elements."
   ]
  },
  {
   "cell_type": "code",
   "execution_count": 10,
   "metadata": {
    "colab": {
     "base_uri": "https://localhost:8080/"
    },
    "id": "9ci5DmpeNhey",
    "outputId": "3fcba499-921f-40b7-e6b7-4d0b387a09f0"
   },
   "outputs": [
    {
     "name": "stdout",
     "output_type": "stream",
     "text": [
      "option:  (100, datetime.date(2018, 12, 21), True)\n"
     ]
    }
   ],
   "source": [
    "# import a built-in module from the standard library\n",
    "from datetime import date\n",
    "#help(date)\n",
    "\n",
    "# (strike, maturity, Call/Put)\n",
    "europeanOption = (100, date(2018, 12, 21), True)\n",
    "print('option: ', europeanOption)"
   ]
  },
  {
   "cell_type": "markdown",
   "metadata": {
    "id": "FEZPO73mNhey"
   },
   "source": [
    "tuples are **immutable**."
   ]
  },
  {
   "cell_type": "code",
   "execution_count": 11,
   "metadata": {
    "colab": {
     "base_uri": "https://localhost:8080/",
     "height": 166
    },
    "id": "UzLKeBwYNhey",
    "outputId": "6ad380aa-c79a-429c-8c5b-5b38c6bdff8c"
   },
   "outputs": [
    {
     "ename": "TypeError",
     "evalue": "'tuple' object does not support item assignment",
     "output_type": "error",
     "traceback": [
      "\u001b[0;31m---------------------------------------------------------------------------\u001b[0m",
      "\u001b[0;31mTypeError\u001b[0m                                 Traceback (most recent call last)",
      "Input \u001b[0;32mIn [11]\u001b[0m, in \u001b[0;36m<module>\u001b[0;34m\u001b[0m\n\u001b[0;32m----> 1\u001b[0m europeanOption[\u001b[38;5;241m0\u001b[39m] \u001b[38;5;241m=\u001b[39m \u001b[38;5;241m120\u001b[39m\n",
      "\u001b[0;31mTypeError\u001b[0m: 'tuple' object does not support item assignment"
     ]
    }
   ],
   "source": [
    "europeanOption[0] = 120"
   ]
  },
  {
   "cell_type": "markdown",
   "metadata": {
    "id": "3m7XbzJ1PVYU"
   },
   "source": [
    "Check: getting the type of an existing object"
   ]
  },
  {
   "cell_type": "code",
   "execution_count": 12,
   "metadata": {
    "colab": {
     "base_uri": "https://localhost:8080/"
    },
    "id": "jrKKd2DXO7xO",
    "outputId": "4ec7334a-7981-4f77-efa4-47c76cc982af"
   },
   "outputs": [
    {
     "data": {
      "text/plain": [
       "tuple"
      ]
     },
     "execution_count": 12,
     "metadata": {},
     "output_type": "execute_result"
    }
   ],
   "source": [
    "type(europeanOption)"
   ]
  },
  {
   "cell_type": "markdown",
   "metadata": {
    "id": "3lpUoQj5Nhez"
   },
   "source": [
    "### Strings\n",
    "Strings are **immutable** sequences of **Unicode** code points."
   ]
  },
  {
   "cell_type": "code",
   "execution_count": 13,
   "metadata": {
    "colab": {
     "base_uri": "https://localhost:8080/"
    },
    "id": "B5I57hLwNhez",
    "outputId": "808d9eda-15e3-4900-b9ec-f4cb825097ca"
   },
   "outputs": [
    {
     "name": "stdout",
     "output_type": "stream",
     "text": [
      "capitalized:  Historicaldata\n",
      "are all characters letters?:  True\n",
      "are all characters digits?:  False\n"
     ]
    }
   ],
   "source": [
    "fileName = 'historicalData'\n",
    "\n",
    "# they include some handy operations\n",
    "print(\"capitalized: \", fileName.capitalize())\n",
    "print(\"are all characters letters?: \", fileName.isalpha())\n",
    "print(\"are all characters digits?: \", fileName.isdigit())"
   ]
  },
  {
   "cell_type": "markdown",
   "metadata": {
    "id": "NR_crylbNhez"
   },
   "source": [
    "strings are **immutable**."
   ]
  },
  {
   "cell_type": "code",
   "execution_count": 14,
   "metadata": {
    "colab": {
     "base_uri": "https://localhost:8080/"
    },
    "id": "7AK4obVmNhe0",
    "outputId": "254bcc9b-bb95-47f3-da81-f9f6e1b39bce"
   },
   "outputs": [
    {
     "name": "stdout",
     "output_type": "stream",
     "text": [
      "fileName is still:  historicalData\n"
     ]
    }
   ],
   "source": [
    "# capitalizes does not modify the string, it creates a new one\n",
    "print(\"fileName is still: \", fileName)"
   ]
  },
  {
   "cell_type": "markdown",
   "metadata": {
    "id": "BcV8XxU0SY_8"
   },
   "source": [
    "However, you can for instance concatenate strings:"
   ]
  },
  {
   "cell_type": "code",
   "execution_count": 15,
   "metadata": {
    "colab": {
     "base_uri": "https://localhost:8080/"
    },
    "id": "WI1HZ91DSWho",
    "outputId": "3f4cd89a-8388-499d-9299-8d6df2e00e31"
   },
   "outputs": [
    {
     "name": "stdout",
     "output_type": "stream",
     "text": [
      "String1String2 \n",
      "\n",
      "String1 String2 \n",
      "\n",
      "String1String2\n"
     ]
    }
   ],
   "source": [
    "# initialize strings\n",
    "string1 = 'String1'\n",
    "string2 = 'String2'\n",
    "\n",
    "# concatenate two strings\n",
    "print(string1 + string2, \"\\n\")\n",
    "\n",
    "# concatenate with space\n",
    "print(string1 + ' ' + string2, \"\\n\")\n",
    "\n",
    "# append string2 to string1\n",
    "string1 += string2\n",
    "print(string1)"
   ]
  },
  {
   "cell_type": "markdown",
   "metadata": {
    "id": "VUaDEkw9Nhe0"
   },
   "source": [
    "### Common Operations\n",
    "Some common operations are defined for all sequences."
   ]
  },
  {
   "cell_type": "code",
   "execution_count": 16,
   "metadata": {
    "colab": {
     "base_uri": "https://localhost:8080/"
    },
    "id": "KbLowa-DNhe0",
    "outputId": "b8a456b7-49e1-4893-8cdf-3787775713c7"
   },
   "outputs": [
    {
     "name": "stdout",
     "output_type": "stream",
     "text": [
      "strikes[1:3]:  [0.95, 1]\n",
      "spreads[::2]:  ('1Y', '2Y', '3Y')\n",
      "asset[-2:]:  50\n"
     ]
    }
   ],
   "source": [
    "strikes = [0.9, 0.95, 1, 1.05, 1.1]\n",
    "spreads = ('1Y', 20, '2Y', 30, '3Y', 40)\n",
    "asset = 'Eurostoxx50'\n",
    "\n",
    "# slicing\n",
    "print(\"strikes[1:3]: \", strikes[1:3])\n",
    "print(\"spreads[::2]: \", spreads[::2])\n",
    "print(\"asset[-2:]: \", asset[-2:])"
   ]
  },
  {
   "cell_type": "code",
   "execution_count": 17,
   "metadata": {
    "colab": {
     "base_uri": "https://localhost:8080/"
    },
    "id": "nhlrwp0aNhe1",
    "outputId": "d91d11de-da78-42f9-9674-7f12a8f7e0be"
   },
   "outputs": [
    {
     "name": "stdout",
     "output_type": "stream",
     "text": [
      "len(strikes):  5\n",
      "len(spreads):  6\n",
      "len(asset):  11\n"
     ]
    }
   ],
   "source": [
    "# length\n",
    "print(\"len(strikes): \", len(strikes))\n",
    "print(\"len(spreads): \", len(spreads))\n",
    "print(\"len(asset): \", len(asset))"
   ]
  },
  {
   "cell_type": "code",
   "execution_count": 18,
   "metadata": {
    "colab": {
     "base_uri": "https://localhost:8080/"
    },
    "id": "uzenaEYUNhe1",
    "outputId": "f9fdfd93-5ffb-4ef6-98b1-72aec2880339"
   },
   "outputs": [
    {
     "name": "stdout",
     "output_type": "stream",
     "text": [
      "max(strikes):  1.1\n",
      "max(asset):  x\n"
     ]
    }
   ],
   "source": [
    "# max\n",
    "print(\"max(strikes): \", max(strikes))\n",
    "#print(\"max(spreads): \", max(spreads))\n",
    "print(\"max(asset): \", max(asset))"
   ]
  },
  {
   "cell_type": "markdown",
   "metadata": {
    "id": "Gwfb7kjcNhe1"
   },
   "source": [
    "## Dictionaries\n",
    "Dictionaries are used to map keys to values, therefore a collection of key-value pairs."
   ]
  },
  {
   "cell_type": "code",
   "execution_count": 19,
   "metadata": {
    "colab": {
     "base_uri": "https://localhost:8080/"
    },
    "id": "oHzsu38IfZtd",
    "outputId": "92707e81-4679-4dba-b316-8b3f3d1d7452"
   },
   "outputs": [
    {
     "name": "stdout",
     "output_type": "stream",
     "text": [
      "{'symbol': 'AAPL', 'last_update': datetime.date(2022, 3, 15), 'opening': 151.45}\n"
     ]
    }
   ],
   "source": [
    "apple_stock = {\n",
    "    \"symbol\" : \"AAPL\",\n",
    "    \"last_update\" : date(2022, 3, 15),\n",
    "    \"opening\" : 151.45\n",
    "}\n",
    "\n",
    "print(apple_stock)"
   ]
  },
  {
   "cell_type": "markdown",
   "metadata": {
    "id": "kQzw9kR9gbNl"
   },
   "source": [
    "You can suitably use non-string instances (e.g. dates) as keys:"
   ]
  },
  {
   "cell_type": "code",
   "execution_count": 20,
   "metadata": {
    "colab": {
     "base_uri": "https://localhost:8080/"
    },
    "id": "jmc-62-DNhe1",
    "outputId": "0642bdfb-b14e-4a59-e589-3fcb5b704015"
   },
   "outputs": [
    {
     "name": "stdout",
     "output_type": "stream",
     "text": [
      "curve:  {datetime.date(2024, 3, 22): 0.9998, datetime.date(2024, 3, 29): 0.9995, datetime.date(2024, 4, 5): 0.9991}\n",
      "curve[one_week]:  0.9998\n",
      "curve[one_week]:  0.9998\n",
      "curve keys:  dict_keys([datetime.date(2024, 3, 22), datetime.date(2024, 3, 29), datetime.date(2024, 4, 5)])\n",
      "curve values:  dict_values([0.9998, 0.9995, 0.9991])\n"
     ]
    }
   ],
   "source": [
    "from datetime import date, timedelta\n",
    "\n",
    "curve = {\n",
    "    date.today() + timedelta(weeks=1): 0.9998,\n",
    "    date.today() + timedelta(weeks=2): 0.9995,\n",
    "    date.today() + timedelta(weeks=3): 0.9991\n",
    "}\n",
    "\n",
    "print(\"curve: \", curve)\n",
    "one_week = date.today() + timedelta(weeks=1)\n",
    "print(\"curve[one_week]: \", curve[one_week])\n",
    "print(\"curve[one_week]: \", curve.get(one_week))\n",
    "\n",
    "# dictionaries provide some handy operations as well\n",
    "print(\"curve keys: \", curve.keys())\n",
    "print(\"curve values: \", curve.values())\n"
   ]
  },
  {
   "cell_type": "markdown",
   "metadata": {
    "id": "Qb_pOBbgNhe1"
   },
   "source": [
    "## Object Oriented Programming (Classes)\n",
    "Python allows for the OOP paradigm by providing the keyword **class** and its accompanying syntax. OOP consists in organizing your code in classes that encapsulate both data and behavior. Instances of a class are called objects, thus OOP."
   ]
  },
  {
   "cell_type": "code",
   "execution_count": 21,
   "metadata": {
    "colab": {
     "base_uri": "https://localhost:8080/"
    },
    "id": "m9GMp7GoNhe2",
    "outputId": "23cab5fc-8f61-4556-9e62-a93152fb5c36"
   },
   "outputs": [
    {
     "name": "stdout",
     "output_type": "stream",
     "text": [
      "simple_curve:  <__main__.DiscountCurve object at 0x1030eddc0>\n",
      "zero rates:  [0.010429614424781616, 0.013038974301001332, 0.015649900654996027]\n"
     ]
    }
   ],
   "source": [
    "from datetime import date, timedelta\n",
    "import math\n",
    "\n",
    "# class definition\n",
    "class DiscountCurve:\n",
    "    def __init__(self, reference_date, curve):\n",
    "        self.curve = curve\n",
    "        self.reference_date = reference_date\n",
    "\n",
    "    def zero_rates(self):\n",
    "        return [ -1/self.act365(date)*math.log(self.curve[date]) for date in self.sorted_dates() ]\n",
    "    \n",
    "    def sorted_dates(self):\n",
    "        return sorted(self.curve)\n",
    "    \n",
    "    def act365(self, date):\n",
    "        return (date - self.reference_date).days/365\n",
    "\n",
    "\n",
    "# let's use our class\n",
    "curve = {\n",
    "    date.today() + timedelta(weeks=1): 0.9998,\n",
    "    date.today() + timedelta(weeks=2): 0.9995,\n",
    "    date.today() + timedelta(weeks=3): 0.9991\n",
    "}\n",
    "\n",
    "simple_curve = DiscountCurve(date.today(), curve)\n",
    "print(\"simple_curve: \", simple_curve)\n",
    "print(\"zero rates: \", simple_curve.zero_rates())"
   ]
  },
  {
   "cell_type": "markdown",
   "metadata": {
    "id": "sQ226bq6Nhe2"
   },
   "source": [
    "## Functional Programming\n",
    "Functional programming is a programming paradigm that treats computation as the evaluation of **functions**. The term function in this context is to be taken in the mathematical sense: functions take an input, make a calculation and return an output; they do not mutate the input, nor modify the state of my program."
   ]
  },
  {
   "cell_type": "markdown",
   "metadata": {
    "id": "vzBZ4cT0db9B"
   },
   "source": [
    "### Lambda expressions\n",
    "\n",
    "Small anonymous functions can be created with the _lambda_ keyword.\n",
    "\n",
    "Syntax: ` lambda inputs : output`"
   ]
  },
  {
   "cell_type": "code",
   "execution_count": 22,
   "metadata": {
    "colab": {
     "base_uri": "https://localhost:8080/"
    },
    "id": "GQSW1Cy0dakn",
    "outputId": "7b54401a-c57e-41fc-d569-2c65c9fe6fab"
   },
   "outputs": [
    {
     "name": "stdout",
     "output_type": "stream",
     "text": [
      "Python\n"
     ]
    }
   ],
   "source": [
    "printer_lambda = lambda x : print(x)\n",
    "printer_lambda(\"Python\")"
   ]
  },
  {
   "cell_type": "code",
   "execution_count": 23,
   "metadata": {
    "id": "NsyevMaO3z3m"
   },
   "outputs": [],
   "source": [
    "# Exercise: write a lambda function for computing the square of a number\n",
    "\n",
    "# square_lambda = ...\n"
   ]
  },
  {
   "cell_type": "code",
   "execution_count": 24,
   "metadata": {
    "id": "QwFG-1opeRVl"
   },
   "outputs": [],
   "source": [
    "## square of an integer number\n",
    "\n",
    "# square_lambda(15)\n",
    " \n",
    "## square of a list of integer numbers\n",
    "\n",
    "#my_list = [1,2,3]\n",
    "#\n",
    "#square_lambda(my_list)\n",
    "#for elem in my_list:\n",
    "#    printer_lambda(square_lambda(elem))"
   ]
  },
  {
   "cell_type": "markdown",
   "metadata": {
    "id": "ybczV__XNhe2"
   },
   "source": [
    "### Map and filter\n",
    "Python provides some built-in functions that support the _functional_ paradigm. In particular, lambda expressions are suitable to be used \"anonymously\" together with the functions **map** and **filter**."
   ]
  },
  {
   "cell_type": "markdown",
   "metadata": {
    "id": "BgtT8cF82GCD"
   },
   "source": [
    "Sometimes you might face situations in which you need to perform the same operation on all the items of an input iterable to build a new iterable. The quickest and most common approach to this problem is to use a Python for loop. However, you can also tackle this problem without an explicit loop by using *map()*. *map()* loops over the items of an input iterable (or iterables) and returns an iterator that results from applying a transformation function to every item in the original input iterable.\n",
    "\n",
    "map(function, iterable[, iterable1, iterable2,..., iterableN])"
   ]
  },
  {
   "cell_type": "code",
   "execution_count": 25,
   "metadata": {
    "colab": {
     "base_uri": "https://localhost:8080/"
    },
    "id": "EMUpW476Nhe2",
    "outputId": "eabf07a7-881e-43d9-d8e7-de54a563e5d7"
   },
   "outputs": [
    {
     "name": "stdout",
     "output_type": "stream",
     "text": [
      "strikes:  [85, 90, 95, 100, 105, 110, 115]\n",
      "moneyness:  [1.1764705882352942, 1.1111111111111112, 1.0526315789473684, 1.0, 0.9523809523809523, 0.9090909090909091, 0.8695652173913043]\n"
     ]
    }
   ],
   "source": [
    "# map\n",
    "spot = 100\n",
    "strikes = [85, 90, 95, 100, 105, 110, 115]\n",
    "moneyness = map(lambda strike: spot/strike, strikes)\n",
    "\n",
    "print(\"strikes: \", strikes)\n",
    "print(\"moneyness: \", list(moneyness))"
   ]
  },
  {
   "cell_type": "code",
   "execution_count": 26,
   "metadata": {
    "colab": {
     "base_uri": "https://localhost:8080/"
    },
    "id": "pBeoZgkQNhe2",
    "outputId": "7692dc11-3b60-4aab-c5b0-33f63bb25e41"
   },
   "outputs": [
    {
     "name": "stdout",
     "output_type": "stream",
     "text": [
      "strikes:  [85, 90, 95, 100, 105, 110, 115]\n",
      "in the money options:  [85, 90, 95]\n"
     ]
    }
   ],
   "source": [
    "# filter\n",
    "spot = 100\n",
    "call_strikes = [85, 90, 95, 100, 105, 110, 115]\n",
    "\n",
    "in_the_money_strikes = filter(lambda strike: spot > strike, call_strikes)\n",
    "\n",
    "print(\"strikes: \", call_strikes)\n",
    "print(\"in the money options: \", list(in_the_money_strikes))"
   ]
  },
  {
   "cell_type": "code",
   "execution_count": 27,
   "metadata": {
    "id": "djCOzNIA-1Pq"
   },
   "outputs": [],
   "source": [
    "# Exercise: write the previous lines of code (both the map and the filter using a for loop)"
   ]
  },
  {
   "cell_type": "markdown",
   "metadata": {
    "id": "8Y627MVeNhe2"
   },
   "source": [
    "### Comprehensions\n",
    "Comprehensions allow to apply functional programming in a more concise and comprehensive way."
   ]
  },
  {
   "cell_type": "code",
   "execution_count": 28,
   "metadata": {
    "colab": {
     "base_uri": "https://localhost:8080/"
    },
    "id": "HJSnaKZCNhe3",
    "outputId": "22a8c677-f15c-472a-b955-5af9e472ae88"
   },
   "outputs": [
    {
     "name": "stdout",
     "output_type": "stream",
     "text": [
      "strikes:  [85, 90, 95, 100, 105, 110, 115]\n",
      "moneyness:  [1.1764705882352942, 1.1111111111111112, 1.0526315789473684, 1.0, 0.9523809523809523, 0.9090909090909091, 0.8695652173913043]\n"
     ]
    }
   ],
   "source": [
    "# there are lists comprehensions (we have already used them)\n",
    "\n",
    "# map operation\n",
    "spot = 100\n",
    "strikes = [85, 90, 95, 100, 105, 110, 115]\n",
    "moneyness = [ spot/strike for strike in strikes ]\n",
    "\n",
    "print(\"strikes: \", strikes)\n",
    "print(\"moneyness: \", moneyness)"
   ]
  },
  {
   "cell_type": "code",
   "execution_count": 29,
   "metadata": {
    "colab": {
     "base_uri": "https://localhost:8080/"
    },
    "id": "iCJZptnaNhe3",
    "outputId": "61315850-d384-496e-9274-8adfdfe9f49e"
   },
   "outputs": [
    {
     "name": "stdout",
     "output_type": "stream",
     "text": [
      "strikes:  [85, 90, 95, 100, 105, 110, 115]\n",
      "in the money options:  [85, 90, 95]\n"
     ]
    }
   ],
   "source": [
    "# filter operation\n",
    "spot = 100\n",
    "call_strikes = [85, 90, 95, 100, 105, 110, 115]\n",
    "in_the_money_strikes = [ strike for strike in strikes if spot > strike ]\n",
    "\n",
    "print(\"strikes: \", call_strikes)\n",
    "print(\"in the money options: \", in_the_money_strikes)"
   ]
  },
  {
   "cell_type": "code",
   "execution_count": 30,
   "metadata": {
    "colab": {
     "base_uri": "https://localhost:8080/"
    },
    "id": "fKXfl0hANhe3",
    "outputId": "0ae3c831-363c-4c2c-90a3-f4695f989da2"
   },
   "outputs": [
    {
     "name": "stdout",
     "output_type": "stream",
     "text": [
      "strikes:  [85, 90, 95, 100, 105, 110, 115]\n",
      "in the money moneyness:  [1.1764705882352942, 1.1111111111111112, 1.0526315789473684]\n"
     ]
    }
   ],
   "source": [
    "# it's easy to combine both operations\n",
    "spot = 100\n",
    "call_strikes = [85, 90, 95, 100, 105, 110, 115]\n",
    "in_the_money_moneyness = [ spot/strike for strike in strikes if spot > strike ]\n",
    "\n",
    "print(\"strikes: \", call_strikes)\n",
    "print(\"in the money moneyness: \", in_the_money_moneyness)"
   ]
  },
  {
   "cell_type": "code",
   "execution_count": 31,
   "metadata": {
    "colab": {
     "base_uri": "https://localhost:8080/"
    },
    "id": "c2yFK9_HNhe3",
    "outputId": "4ad90642-0f39-48a0-9333-8029eb3fcc79"
   },
   "outputs": [
    {
     "name": "stdout",
     "output_type": "stream",
     "text": [
      "zero_rates:  {datetime.date(2024, 3, 22): 0.010429614424781616, datetime.date(2024, 3, 29): 0.013038974301001332, datetime.date(2024, 4, 5): 0.015649900654996027}\n"
     ]
    }
   ],
   "source": [
    "# there are dictionary comprehensions as well\n",
    "from datetime import date, timedelta\n",
    "import math\n",
    "\n",
    "reference_date = date.today()\n",
    "curve = {\n",
    "    date.today() + timedelta(weeks=1): 0.9998,\n",
    "    date.today() + timedelta(weeks=2): 0.9995,\n",
    "    date.today() + timedelta(weeks=3): 0.9991\n",
    "}\n",
    "\n",
    "act365 = lambda date: (date - reference_date).days/365\n",
    "zero_rates = { date: -1/act365(date)*math.log(discount) for (date, discount) in curve.items() }\n",
    "\n",
    "print(\"zero_rates: \", zero_rates)"
   ]
  },
  {
   "cell_type": "markdown",
   "metadata": {
    "id": "Kdu86QnvNhe3"
   },
   "source": [
    "## Built-in Functions\n",
    "| <font size=4> Name </font> | <font size=4> Description </font>\n",
    "| :---: | :-------------\n",
    "| | <font size=3> *Mathematical* </font>|\n",
    "|<font size=3> **abs()** </font>| <font size=3> Returns the absolute value of a number </font>\n",
    "|<font size=3> **len()** </font>| <font size=3> Returns the length (i.e. number of elements) of an object </font>\n",
    "|<font size=3> **max()** </font>| <font size=3> Returns the largest of a sequence or multiple arguments </font>\n",
    "|<font size=3> **min()** </font>| <font size=3> Returns the largest of a sequence or multiple arguments </font>\n",
    "|<font size=3> **round()** </font>| <font size=3> Round a number to the desired position </font>\n",
    "|<font size=3> **sum()** </font>| <font size=3> Add a series of elements </font>\n",
    "| | <font size=3> *Logical* </font>|\n",
    "|<font size=3> **all()** </font>| <font size=3> Returns *True* if all elements are true </font>\n",
    "|<font size=3> **any()** </font>| <font size=3> Returns *True* if at least one element is true </font>\n",
    "| | <font size=3> *Types Manipulation* </font>|\n",
    "|<font size=3> **int()** </font>| <font size=3> Convert a string or number to a simple integer, truncating the decimal part </font>\n",
    "|<font size=3> **float()** </font>| <font size=3> Converts a string or an integer to a floating point number </font>\n",
    "|<font size=3> **str()** </font>| <font size=3> Convert anything into a string </font>\n",
    "|<font size=3> **range()** </font>| <font size=3> Create sequences of integers </font>\n",
    "|<font size=3> **tuple()** </font>| <font size=3> Create or convert to a tuple object </font>\n",
    "|<font size=3> **list()** </font>| <font size=3> Create or convert to a list object </font>\n",
    "|<font size=3> **dict()** </font>| <font size=3> Create or convert to a dictionary object </font>\n",
    "|<font size=3> **zip()** </font>| <font size=3> Joins 2 to 2, in tuples, the elements of two sequences </font>\n",
    "| | <font size=3> *Functional* </font>|\n",
    "|<font size=3> **dir()** </font>| <font size=3> Returns a list of attributes and methods of an object or module </font>\n",
    "|<font size=3> **help()** </font>| <font size=3> Opens the built in system help </font>\n",
    "|<font size=3> **type()** </font>| <font size=3> Returns the data type of the argument, an arbitrary object </font>"
   ]
  },
  {
   "cell_type": "markdown",
   "metadata": {
    "id": "jV-DzFmfH2o9"
   },
   "source": [
    "# A final note\n",
    "What is _duck typing_?"
   ]
  },
  {
   "cell_type": "code",
   "execution_count": 32,
   "metadata": {
    "colab": {
     "base_uri": "https://localhost:8080/",
     "height": 258
    },
    "id": "_aySu9CEH1wM",
    "outputId": "fad97c90-1270-4af3-fdab-59fc276ad816"
   },
   "outputs": [
    {
     "name": "stdout",
     "output_type": "stream",
     "text": [
      "Duck swimming\n",
      "Duck flying\n",
      "Whale swimming\n"
     ]
    },
    {
     "ename": "AttributeError",
     "evalue": "'Whale' object has no attribute 'fly'",
     "output_type": "error",
     "traceback": [
      "\u001b[0;31m---------------------------------------------------------------------------\u001b[0m",
      "\u001b[0;31mAttributeError\u001b[0m                            Traceback (most recent call last)",
      "Input \u001b[0;32mIn [32]\u001b[0m, in \u001b[0;36m<module>\u001b[0;34m\u001b[0m\n\u001b[1;32m     12\u001b[0m \u001b[38;5;28;01mfor\u001b[39;00m animal \u001b[38;5;129;01min\u001b[39;00m [Duck(), Whale()]:\n\u001b[1;32m     13\u001b[0m     animal\u001b[38;5;241m.\u001b[39mswim()\n\u001b[0;32m---> 14\u001b[0m     \u001b[43manimal\u001b[49m\u001b[38;5;241;43m.\u001b[39;49m\u001b[43mfly\u001b[49m()\n",
      "\u001b[0;31mAttributeError\u001b[0m: 'Whale' object has no attribute 'fly'"
     ]
    }
   ],
   "source": [
    "class Duck:\n",
    "    def swim(self):\n",
    "        print(\"Duck swimming\")\n",
    "\n",
    "    def fly(self):\n",
    "        print(\"Duck flying\")\n",
    "\n",
    "class Whale:\n",
    "    def swim(self):\n",
    "        print(\"Whale swimming\")\n",
    "\n",
    "for animal in [Duck(), Whale()]:\n",
    "    animal.swim()\n",
    "    animal.fly()"
   ]
  },
  {
   "cell_type": "markdown",
   "metadata": {
    "id": "xplfszrKNhe3"
   },
   "source": [
    "## Other Resources\n",
    "* __[Official Python 3 Documentation](https://docs.python.org/3/)__\n",
    "* __[Best Practices Handbook](http://docs.python-guide.org/)__\n",
    "* __[Coursera's Specialization \"Python for Everybody\" by University of Michigan](https://www.coursera.org/specializations/python)__"
   ]
  }
 ],
 "metadata": {
  "colab": {
   "provenance": []
  },
  "kernelspec": {
   "display_name": "Python 3 (ipykernel)",
   "language": "python",
   "name": "python3"
  },
  "language_info": {
   "codemirror_mode": {
    "name": "ipython",
    "version": 3
   },
   "file_extension": ".py",
   "mimetype": "text/x-python",
   "name": "python",
   "nbconvert_exporter": "python",
   "pygments_lexer": "ipython3",
   "version": "3.8.9"
  }
 },
 "nbformat": 4,
 "nbformat_minor": 1
}
